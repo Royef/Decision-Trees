{
 "cells": [
  {
   "cell_type": "markdown",
   "metadata": {
    "nbgrader": {
     "grade": false,
     "grade_id": "cell-6bd0516e7cb654f5",
     "locked": true,
     "schema_version": 1,
     "solution": false
    }
   },
   "source": [
    "# Exercise 2: Decision Trees\n",
    "\n",
    "In this assignment you will implement a Decision Tree algorithm as learned in class.\n",
    "\n",
    "## Read the following instructions carefully:\n",
    "\n",
    "1. This jupyter notebook contains all the step by step instructions needed for this exercise.\n",
    "1. Submission includes this notebook only with the exercise number and your ID as the filename. For example: `hw2_123456789_987654321.ipynb` if you submitted in pairs and `hw2_123456789.ipynb` if you submitted the exercise alone.\n",
    "1. Write **efficient vectorized** code whenever possible. Some calculations in this exercise take several minutes when implemented efficiently, and might take much longer otherwise. Unnecessary loops will result in point deduction.\n",
    "1. You are responsible for the correctness of your code and should add as many tests as you see fit. Tests will not be graded nor checked.\n",
    "1. Write your functions in this notebook only. **Do not create Python modules and import them**.\n",
    "1. You are allowed to use functions and methods from the [Python Standard Library](https://docs.python.org/3/library/) and [numpy](https://www.numpy.org/devdocs/reference/) only. **Do not import anything else.**\n",
    "\n",
    "## In this exercise you will perform the following:\n",
    "1. Practice OOP in python.\n",
    "2. Implement two impurity measures: Gini and Entropy.\n",
    "3. Construct a decision tree algorithm.\n",
    "4. Prune the tree to achieve better results.\n",
    "5. Visualize your results."
   ]
  },
  {
   "cell_type": "markdown",
   "metadata": {},
   "source": [
    "# I have read and understood the instructions: 206483216"
   ]
  },
  {
   "cell_type": "code",
   "execution_count": 1,
   "metadata": {
    "nbgrader": {
     "grade": false,
     "grade_id": "cell-ed9fe7b1026e33cb",
     "locked": true,
     "schema_version": 1,
     "solution": false
    }
   },
   "outputs": [],
   "source": [
    "import numpy as np\n",
    "import pandas as pd\n",
    "import matplotlib.pyplot as plt\n",
    "\n",
    "# make matplotlib figures appear inline in the notebook\n",
    "%matplotlib inline\n",
    "plt.rcParams['figure.figsize'] = (10.0, 8.0) # set default size of plots\n",
    "plt.rcParams['image.interpolation'] = 'nearest'\n",
    "plt.rcParams['image.cmap'] = 'gray'\n",
    "\n",
    "# Ignore warnings\n",
    "import warnings\n",
    "warnings.filterwarnings('ignore')"
   ]
  },
  {
   "cell_type": "markdown",
   "metadata": {
    "nbgrader": {
     "grade": false,
     "grade_id": "cell-c6ac605270c2b091",
     "locked": true,
     "schema_version": 1,
     "solution": false
    }
   },
   "source": [
    "## Warmup - OOP in python\n",
    "\n",
    "Our desicion tree will be implemented using a dedicated python class. Python classes are very similar to classes in Java.\n",
    "\n",
    "\n",
    "You can use the following [site](https://jeffknupp.com/blog/2014/06/18/improve-your-python-python-classes-and-object-oriented-programming/) to learn about classes in python."
   ]
  },
  {
   "cell_type": "code",
   "execution_count": 2,
   "metadata": {},
   "outputs": [],
   "source": [
    "class Node(object):\n",
    "    def __init__(self, data):\n",
    "        self.data = data\n",
    "        self.children = []\n",
    "\n",
    "    def add_child(self, node):\n",
    "        self.children.append(node)"
   ]
  },
  {
   "cell_type": "code",
   "execution_count": 3,
   "metadata": {},
   "outputs": [
    {
     "data": {
      "text/plain": [
       "[<__main__.Node at 0x1eb7fa8bc10>, <__main__.Node at 0x1eb7fa8bfa0>]"
      ]
     },
     "execution_count": 3,
     "metadata": {},
     "output_type": "execute_result"
    }
   ],
   "source": [
    "n = Node(5)\n",
    "p = Node(6)\n",
    "q = Node(7)\n",
    "n.add_child(p)\n",
    "n.add_child(q)\n",
    "n.children"
   ]
  },
  {
   "cell_type": "markdown",
   "metadata": {
    "nbgrader": {
     "grade": false,
     "grade_id": "cell-2f1ceb251c649b62",
     "locked": true,
     "schema_version": 1,
     "solution": false
    }
   },
   "source": [
    "## Data preprocessing\n",
    "\n",
    "For the following exercise, we will use a dataset containing mushroom data `agaricus-lepiota.csv`. \n",
    "\n",
    "This data set includes descriptions of hypothetical samples corresponding to 23 species of gilled mushrooms in the Agaricus and Lepiota Family. Each species is identified as definitely edible, definitely poisonous, or of unknown edibility and not recommended. This latter class was combined with the poisonous\n",
    "one (=there are only two classes **edible** and **poisonous**). \n",
    "    \n",
    "The dataset contains 8124 observations with 22 features:\n",
    "1. cap-shape: bell=b,conical=c,convex=x,flat=f,knobbed=k,sunken=s\n",
    "2. cap-surface: fibrous=f,grooves=g,scaly=y,smooth=s\n",
    "3. cap-color: brown=n,buff=b,cinnamon=c,gray=g,green=r,pink=p,purple=u,red=e,white=w,yellow=y\n",
    "4. bruises: bruises=t,no=f\n",
    "5. odor: almond=a,anise=l,creosote=c,fishy=y,foul=f, musty=m,none=n,pungent=p,spicy=s\n",
    "6. gill-attachment: attached=a,descending=d,free=f,notched=n\n",
    "7. gill-spacing: close=c,crowded=w,distant=d\n",
    "8. gill-size: broad=b,narrow=n\n",
    "9. gill-color: black=k,brown=n,buff=b,chocolate=h,gray=g,green=r,orange=o,pink=p,purple=u,red=e,white=w,yellow=y\n",
    "10. stalk-shape: enlarging=e,tapering=t\n",
    "11. stalk-root: bulbous=b,club=c,cup=u,equal=e,rhizomorphs=z,rooted=r\n",
    "12. stalk-surface-above-ring: fibrous=f,scaly=y,silky=k,smooth=s\n",
    "13. stalk-surface-below-ring: fibrous=f,scaly=y,silky=k,smooth=s\n",
    "14. stalk-color-above-ring: brown=n,buff=b,cinnamon=c,gray=g,orange=o,pink=p,red=e,white=w,yellow=y\n",
    "15. stalk-color-below-ring: brown=n,buff=b,cinnamon=c,gray=g,orange=o,pink=p,red=e,white=w,yellow=y\n",
    "16. veil-type: partial=p,universal=u\n",
    "17. veil-color: brown=n,orange=o,white=w,yellow=y\n",
    "18. ring-number: none=n,one=o,two=t\n",
    "19. ring-type: cobwebby=c,evanescent=e,flaring=f,large=l,none=n,pendant=p,sheathing=s,zone=z\n",
    "20. spore-print-color: black=k,brown=n,buff=b,chocolate=h,green=r,orange=o,purple=u,white=w,yellow=y\n",
    "21. population: abundant=a,clustered=c,numerous=n,scattered=s,several=v,solitary=y\n",
    "22. habitat: grasses=g,leaves=l,meadows=m,paths=p,urban=u,waste=w,woods=d\n",
    "\n",
    "First, we will read and explore the data using pandas and the `.read_csv` method. Pandas is an open source library providing high-performance, easy-to-use data structures and data analysis tools for the Python programming language."
   ]
  },
  {
   "cell_type": "code",
   "execution_count": 4,
   "metadata": {
    "nbgrader": {
     "grade": false,
     "grade_id": "cell-d79cb4542926ad3f",
     "locked": true,
     "schema_version": 1,
     "solution": false
    }
   },
   "outputs": [],
   "source": [
    "# load dataset\n",
    "data = pd.read_csv('agaricus-lepiota.csv')"
   ]
  },
  {
   "cell_type": "markdown",
   "metadata": {},
   "source": [
    "One of the advantages of the Decision Tree algorithm is that almost no preprocessing is required. However, finding missing values is always required."
   ]
  },
  {
   "cell_type": "code",
   "execution_count": 5,
   "metadata": {},
   "outputs": [
    {
     "data": {
      "text/plain": [
       "cap-shape                   0\n",
       "cap-surface                 0\n",
       "cap-color                   0\n",
       "bruises                     0\n",
       "odor                        0\n",
       "gill-attachment             0\n",
       "gill-spacing                0\n",
       "gill-size                   0\n",
       "gill-color                  0\n",
       "stalk-shape                 0\n",
       "stalk-surface-above-ring    0\n",
       "stalk-surface-below-ring    0\n",
       "stalk-color-above-ring      0\n",
       "stalk-color-below-ring      0\n",
       "veil-type                   0\n",
       "veil-color                  0\n",
       "ring-number                 0\n",
       "ring-type                   0\n",
       "spore-print-color           0\n",
       "population                  0\n",
       "habitat                     0\n",
       "class                       0\n",
       "dtype: int64"
      ]
     },
     "execution_count": 5,
     "metadata": {},
     "output_type": "execute_result"
    }
   ],
   "source": [
    "# TODO: Find columns with missing values and remove them from the data\n",
    "data.isnull().sum()"
   ]
  },
  {
   "cell_type": "markdown",
   "metadata": {},
   "source": [
    "We will split the dataset to `Training` and `Testing` datasets."
   ]
  },
  {
   "cell_type": "code",
   "execution_count": 6,
   "metadata": {},
   "outputs": [
    {
     "name": "stdout",
     "output_type": "stream",
     "text": [
      "Training dataset shape:  (6093, 22)\n",
      "Testing dataset shape:  (2031, 22)\n"
     ]
    }
   ],
   "source": [
    "from sklearn.model_selection import train_test_split\n",
    "# Making sure the last column will hold the labels\n",
    "X, y = data.drop('class', axis=1), data['class']\n",
    "X = np.column_stack([X,y])\n",
    "# split dataset using random_state to get the same split each time\n",
    "X_train, X_test = train_test_split(X, random_state=99)\n",
    "\n",
    "print(\"Training dataset shape: \", X_train.shape)\n",
    "print(\"Testing dataset shape: \", X_test.shape)"
   ]
  },
  {
   "cell_type": "code",
   "execution_count": 7,
   "metadata": {},
   "outputs": [
    {
     "data": {
      "text/plain": [
       "(8124,)"
      ]
     },
     "execution_count": 7,
     "metadata": {},
     "output_type": "execute_result"
    }
   ],
   "source": [
    "y.shape"
   ]
  },
  {
   "cell_type": "markdown",
   "metadata": {
    "nbgrader": {
     "grade": false,
     "grade_id": "cell-fd7b0191f3f1e897",
     "locked": true,
     "schema_version": 1,
     "solution": false
    }
   },
   "source": [
    "## Impurity Measures\n",
    "\n",
    "Impurity is a measure of how often a randomly chosen element from the set would be incorrectly labeled if it was randomly labeled according to the distribution of labels in the subset. Implement the functions `calc_gini` and `calc_entropy`. You are encouraged to test your implementation (10 points)."
   ]
  },
  {
   "cell_type": "code",
   "execution_count": 8,
   "metadata": {},
   "outputs": [],
   "source": [
    "def calc_gini(data):\n",
    "    \"\"\"\n",
    "    Calculate gini impurity measure of a dataset.\n",
    " \n",
    "    Input:\n",
    "    - data: any dataset where the last column holds the labels.\n",
    " \n",
    "    Returns the gini impurity.    \n",
    "    \"\"\"\n",
    "    gini = 0\n",
    "    s1 = sum(data[:,-1] == 'p') / len(data[:,-1])\n",
    "    s2 = sum(data[:,-1] == 'e') / len(data[:,-1])\n",
    "    gini = 1 - (s1**2 + s2**2)\n",
    "    return gini"
   ]
  },
  {
   "cell_type": "code",
   "execution_count": 9,
   "metadata": {},
   "outputs": [],
   "source": [
    "def calc_entropy(data):\n",
    "    \"\"\"\n",
    "    Calculate the entropy of a dataset.\n",
    "\n",
    "    Input:\n",
    "    - data: any dataset where the last column holds the labels.\n",
    "\n",
    "    Returns the entropy of the dataset.    \n",
    "    \"\"\"\n",
    "    entropy = 0.0\n",
    "    s1 = sum( data[:,-1] == 'p' ) / len(data[:,-1])\n",
    "    s2 = sum( data[:,-1] == 'e' ) / len(data[:,-1])\n",
    "    entropy = -s1 * np.log2(s1)  -s2 * np.log2(s2)\n",
    "    return entropy"
   ]
  },
  {
   "cell_type": "code",
   "execution_count": 10,
   "metadata": {
    "scrolled": true
   },
   "outputs": [
    {
     "data": {
      "text/plain": [
       "(0.4995636322379775, 0.9993703627906085)"
      ]
     },
     "execution_count": 10,
     "metadata": {},
     "output_type": "execute_result"
    }
   ],
   "source": [
    "##### Your Tests Here #####\n",
    "calc_gini(X), calc_entropy(X)"
   ]
  },
  {
   "cell_type": "code",
   "execution_count": 11,
   "metadata": {},
   "outputs": [
    {
     "name": "stdout",
     "output_type": "stream",
     "text": [
      "3942\n",
      "4182\n"
     ]
    }
   ],
   "source": [
    "# Y counter\n",
    "print(sum(X[:,-1] == 'p'))\n",
    "print(sum(X[:,-1] == 'e'))"
   ]
  },
  {
   "cell_type": "markdown",
   "metadata": {},
   "source": [
    "## Goodness of Split\n",
    "\n",
    "Given a feature the Goodnees of Split measures the reduction in the impurity if we split the data according to the feature.\n",
    "$$\n",
    "\\Delta\\varphi(S, A) = \\varphi(S) - \\sum_{v\\in Values(A)} \\frac{|S_v|}{|S|}\\varphi(S_v)\n",
    "$$\n",
    "\n",
    "NOTE: you can add more parameters to the function and you can also add more returning variables (The given parameters and the given returning variable should not be touch). (10 Points)"
   ]
  },
  {
   "cell_type": "code",
   "execution_count": 12,
   "metadata": {},
   "outputs": [],
   "source": [
    "def goodness_of_split(data, feature, impurity_func, gain_ratio= False):\n",
    "    \"\"\"\n",
    "    Calculate the goodness of split of a dataset given a feature and impurity function.\n",
    "\n",
    "    Input:\n",
    "    - data: any dataset where the last column holds the labels.\n",
    "    - feature: the feature index.\n",
    "    - impurity func: a function that calculates the impurity.\n",
    "\n",
    "    Returns the goodness of split.  \n",
    "    \"\"\"\n",
    "    \n",
    "    feat_data = data[:,feature]\n",
    "    parent = impurity_func(data)\n",
    "    num_of_val = np.unique(feat_data)\n",
    "    impurity_children = 0\n",
    "    split_info = 0\n",
    "    for value in num_of_val:\n",
    "        \n",
    "        # what I need in order to calculate info gain    \n",
    "        prop = sum( feat_data == value) / len(feat_data)\n",
    "        child = data [ feat_data == value ] \n",
    "        impurity_children += prop * impurity_func(child)\n",
    "    goodness = parent - impurity_children \n",
    "    \n",
    "    if gain_ratio:\n",
    "        #what I need in order to calculate gain ratio        \n",
    "        prob = np.unique(data[:,feature] , return_counts = True)[1] / len(data)\n",
    "        if len(prob) != 1: # the feature needs to be impure (with out just 1 unique value)\n",
    "            split_info = - np.sum(prob * np.log2(prob) )\n",
    "            goodness = goodness / split_info\n",
    "    return goodness   \n"
   ]
  },
  {
   "cell_type": "code",
   "execution_count": 13,
   "metadata": {},
   "outputs": [
    {
     "data": {
      "text/plain": [
       "0.024544175941411783"
      ]
     },
     "execution_count": 13,
     "metadata": {},
     "output_type": "execute_result"
    }
   ],
   "source": [
    "#Self Check\n",
    "goodness_of_split(X,16,calc_entropy)"
   ]
  },
  {
   "cell_type": "code",
   "execution_count": 14,
   "metadata": {},
   "outputs": [
    {
     "name": "stdout",
     "output_type": "stream",
     "text": [
      "['n' 'o' 't']\n"
     ]
    },
    {
     "data": {
      "text/plain": [
       "True"
      ]
     },
     "execution_count": 14,
     "metadata": {},
     "output_type": "execute_result"
    }
   ],
   "source": [
    "#Another self check\n",
    "print(np.unique(X[:,16]))\n",
    "n_prop = sum(X[:,16] == 'n') / len(X[:,16])\n",
    "o_prop = sum(X[:,16] == 'o') / len(X[:,16])\n",
    "t_prop = sum(X[:,16] == 't') / len(X[:,16])\n",
    "\n",
    "n_rows = X[X[:,16] == 'n']\n",
    "o_rows = X[X[:,16] == 'o']\n",
    "t_rows = X[X[:,16] == 't']\n",
    "\n",
    "calc_entropy(X) - (n_prop * calc_entropy(n_rows) + o_prop * calc_entropy(o_rows) + t_prop * calc_entropy(t_rows)) == goodness_of_split(X,16,calc_entropy)"
   ]
  },
  {
   "cell_type": "markdown",
   "metadata": {},
   "source": [
    "## Building a Decision Tree\n",
    "\n",
    "Use a Python class to construct the decision tree. Your class should support the following functionality:\n",
    "\n",
    "1. Initiating a node for a decision tree. You will need to use several class methods and class attributes and you are free to use them as you see fit. We recommend that every node will hold the feature and value used for the split and its children.\n",
    "2. Your code should support both Gini and Entropy as impurity measures. \n",
    "3. The provided data includes categorical data. In this exercise, when splitting a node create the number of children needed according to the attribute unique values.\n",
    "\n",
    "Complete the class `DecisionNode`. The structure of this class is entirely up to you. \n",
    "\n",
    "Complete the function `build_tree`. This function should get the training dataset and the impurity as inputs, initiate a root for the decision tree and construct the tree according to the procedure you learned in class. (30 points)"
   ]
  },
  {
   "cell_type": "code",
   "execution_count": 15,
   "metadata": {},
   "outputs": [],
   "source": [
    "class DecisionNode():\n",
    "    \"\"\"\n",
    "    This class will hold everything you require to construct a decision tree.\n",
    "    The structure of this class is up to you. However, you need to support basic \n",
    "    functionality as described above. It is highly recommended that you \n",
    "    first read and understand the entire exercise before diving into this class.\n",
    "    \"\"\"\n",
    "    def __init__(self, data, feature=None, value=None, is_root=True, is_leaf=False, depth=0):\n",
    "        self.data = data\n",
    "        self.feature = feature # column index of criteria being tested\n",
    "        self.value = value\n",
    "        self.children = []\n",
    "        self.is_root = is_root\n",
    "        self.is_leaf = is_leaf\n",
    "        self.depth = depth\n",
    "        \n",
    "    # get and set method for data parameter\n",
    "    def get_data(self):\n",
    "        return self.data\n",
    "    \n",
    "    def set_data(self, data):\n",
    "        self.data = data\n",
    "        \n",
    "    # get and set method for feature parameter\n",
    "    def get_feature(self):\n",
    "        return self.feature\n",
    "    \n",
    "    def set_feature(self, feature):\n",
    "        self.feature = feature\n",
    "        \n",
    "    # get and set method for value parameter\n",
    "    def get_value(self):\n",
    "        return self.value\n",
    "    \n",
    "    def set_value(self, value):\n",
    "        self.value = value\n",
    "        \n",
    "    # get and set method for children parameter\n",
    "    def get_children(self):\n",
    "        return self.children\n",
    "    \n",
    "    def set_children(self, children):\n",
    "        self.children = children\n",
    "        \n",
    "    # get and set method for is_root parameter\n",
    "    def get_is_root(self):\n",
    "        return self.is_root\n",
    "    \n",
    "    def set_is_root(self, is_root):\n",
    "        self.is_root = is_root\n",
    "    \n",
    "    # get and set method for is_leaf parameter\n",
    "    def get_is_leaf(self):\n",
    "        return self.is_leaf\n",
    "    \n",
    "    def set_is_leaf(self, is_leaf):\n",
    "        self.is_leaf = is_leaf\n",
    "        \n",
    "    # get and set method for depth parameter\n",
    "    def get_depth(self):\n",
    "        return self.depth\n",
    "    \n",
    "    def set_depth(self, depth):\n",
    "        self.depth = depth  \n",
    "        \n",
    "        \n",
    "    def add_child(self, node):\n",
    "        self.children.append(node)\n",
    "        \n",
    "        \n",
    "    def split_node(self, impurity_func, min_samples_split, max_depth, gain_ratio):\n",
    "        goodness = []\n",
    "        data = self.get_data()\n",
    "        father_depth = self.get_depth()\n",
    "        \n",
    "        if self.get_is_leaf() == False:\n",
    "            \n",
    "            for i in range (data.shape[1]-1):\n",
    "                info_gain = goodness_of_split(data, i, impurity_func, gain_ratio)\n",
    "                goodness.append(info_gain)\n",
    "            max_goodness_i = np.argmax(goodness) #The best information gain \n",
    "            self.set_feature(max_goodness_i)\n",
    "            un_val = np.unique(data[:, max_goodness_i])\n",
    "            for val in un_val:\n",
    "                #Child\n",
    "                node_data = data[data[:,max_goodness_i]==val]\n",
    "                node = DecisionNode(data = node_data, value = val, is_root=False)\n",
    "                node.set_depth(father_depth+1)\n",
    "                node.check_leaf()\n",
    "                self.add_child(node)\n",
    "                \n",
    "            for child in self.get_children():\n",
    "                if child.get_depth() < max_depth: #The minimum depth of the child must be less than the maximum depth in order to generate additional childrens\n",
    "                    if len(child.get_data()) >= min_samples_split:\n",
    "                        child.split_node(impurity_func, min_samples_split, max_depth, gain_ratio)\n",
    "                          \n",
    "            \n",
    "    def check_leaf(self):\n",
    "        data = self.get_data()\n",
    "        unique_labels = set(data[:, -1])  # Extract unique labels from the dataset\n",
    "        if len(unique_labels) == 1:  # If there is only one unique label\n",
    "            self.set_is_leaf(True)  # Set the \"is_leaf\" attribute to True"
   ]
  },
  {
   "cell_type": "code",
   "execution_count": 16,
   "metadata": {},
   "outputs": [],
   "source": [
    "def build_tree(data, impurity, min_samples_split=1, max_depth=1000, gain_ratio=False):\n",
    "    \"\"\"\n",
    "    Build a tree using the given impurity measure and training dataset. \n",
    "    You are required to fully grow the tree until all leaves are pure. \n",
    "\n",
    "    Input:\n",
    "    - data: the training dataset.\n",
    "    - impurity: the chosen impurity measure. Notice that you can send a function\n",
    "                as an argument in python.\n",
    "    - min_samples_split: the minimum number of samples required to split an internal node\n",
    "    - max_depth: the allowable depth of the tree\n",
    "\n",
    "    Output: the root node of the tree.\n",
    "    \"\"\"\n",
    "    root = None\n",
    "    root = DecisionNode(data)\n",
    "    root.split_node(impurity, min_samples_split, max_depth, gain_ratio)\n",
    "    return root"
   ]
  },
  {
   "cell_type": "code",
   "execution_count": 17,
   "metadata": {},
   "outputs": [
    {
     "name": "stdout",
     "output_type": "stream",
     "text": [
      "<__main__.DecisionNode object at 0x000001EB02E22D90>\n",
      "<__main__.DecisionNode object at 0x000001EB02E227C0>\n",
      "<__main__.DecisionNode object at 0x000001EB053F45B0>\n"
     ]
    }
   ],
   "source": [
    "# python supports passing a function as an argument to another function.\n",
    "tree_gini = build_tree(data=X_train, impurity=calc_gini) # gini and goodness of split\n",
    "tree_entropy = build_tree(data=X_train, impurity=calc_entropy) # entropy and goodness of split\n",
    "tree_entropy_gain_ratio = build_tree(data=X_train, impurity=calc_entropy, gain_ratio=True) # entropy and gain ratio\n",
    "\n",
    "print(tree_gini)\n",
    "print(tree_entropy)\n",
    "print(tree_entropy_gain_ratio)"
   ]
  },
  {
   "cell_type": "markdown",
   "metadata": {},
   "source": [
    "## Tree evaluation\n",
    "\n",
    "Complete the functions `predict` and `calc_accuracy`. (10 points)"
   ]
  },
  {
   "cell_type": "code",
   "execution_count": 18,
   "metadata": {},
   "outputs": [],
   "source": [
    "def predict(node, instance):\n",
    "    \"\"\"\n",
    "    Predict the class label of a given instance using a decision tree.\n",
    " \n",
    "    Inputs:\n",
    "    - node: the current node in the decision tree.\n",
    "    - instance: a row vector from the dataset. The last element \n",
    "                of this vector is the label of the instance.\n",
    " \n",
    "    Output:\n",
    "    - The prediction of the instance.\n",
    "    \"\"\"\n",
    "    predictions = []\n",
    "    count_no_match_children = 0\n",
    "    for child in node.get_children():\n",
    "        if instance[node.get_feature()] == child.get_value():\n",
    "            if not child.get_is_leaf():\n",
    "                predictions += predict(child, instance)  # Using recursion to reach the leaf node\n",
    "            else:\n",
    "                # Checking the majority in the target variable\n",
    "                data = child.get_data()\n",
    "                count_label_e = sum(data[:, -1] == 'e')\n",
    "                count_label_p = sum(data[:, -1] == 'p')\n",
    "                if count_label_e > count_label_p:\n",
    "                    predictions.append('e')\n",
    "                else:\n",
    "                    predictions.append('p')\n",
    "        else:\n",
    "            count_no_match_children += 1\n",
    "            \n",
    "    # Check if the value is not in the tree, and classify the instance based on the last node it could have reached\n",
    "    if len(node.get_children()) == count_no_match_children:\n",
    "        data = node.get_data()\n",
    "        count_label_e = sum(data[:, -1] == 'e')\n",
    "        count_label_p = sum(data[:, -1] == 'p')\n",
    "        if count_label_e > count_label_p:\n",
    "            predictions.append('e')\n",
    "        else:\n",
    "            predictions.append('p')\n",
    "    #return predictions\n",
    "    return predictions[0]\n"
   ]
  },
  {
   "cell_type": "code",
   "execution_count": 19,
   "metadata": {},
   "outputs": [],
   "source": [
    "def calc_accuracy(node, dataset):\n",
    "    \"\"\"\n",
    "    Predict a given dataset using the decision tree\n",
    " \n",
    "    Input:\n",
    "    - node: a node in the decision tree.\n",
    "    - dataset: the dataset on which the accuracy is evaluated\n",
    " \n",
    "    Output: the accuracy of the decision tree on the given dataset (%).\n",
    "    \"\"\"\n",
    "    accuracy = 0\n",
    "    count_correct = 0\n",
    "    for instance in dataset:\n",
    "        prediction = predict(node, instance)\n",
    "        if prediction == instance[-1]:\n",
    "            count_correct += 1\n",
    "        \n",
    "    accuracy = count_correct / len(dataset)\n",
    "\n",
    "    return accuracy "
   ]
  },
  {
   "cell_type": "code",
   "execution_count": 20,
   "metadata": {},
   "outputs": [
    {
     "name": "stdout",
     "output_type": "stream",
     "text": [
      "Last Column Value: e\n",
      "Prediction: e\n",
      "\n",
      "Last Column Value: e\n",
      "Prediction: e\n",
      "\n",
      "Last Column Value: e\n",
      "Prediction: e\n",
      "\n",
      "Last Column Value: p\n",
      "Prediction: p\n",
      "\n",
      "Last Column Value: p\n",
      "Prediction: p\n",
      "\n"
     ]
    }
   ],
   "source": [
    "#Self Check\n",
    "for instance in X_test[0:5]:\n",
    "    actual = instance[-1]\n",
    "    prediction = predict(tree_gini, instance)\n",
    "    print(\"Last Column Value:\", actual)\n",
    "    print(\"Prediction:\", prediction)\n",
    "    print()\n"
   ]
  },
  {
   "cell_type": "markdown",
   "metadata": {},
   "source": [
    "After building the three trees using the training set, you should calculate the accuracy on the test set. For each tree print the training and test accuracy. Select the tree that gave you the best test accuracy. For the rest of the exercise, use that tree (when you asked to build another tree use the same impurity function and same gain_ratio flag). "
   ]
  },
  {
   "cell_type": "code",
   "execution_count": 21,
   "metadata": {},
   "outputs": [
    {
     "name": "stdout",
     "output_type": "stream",
     "text": [
      "The tree_gini train accuracy is:  0.9937633349745609\n",
      "The tree_gini test accuracy is:  0.7769571639586411\n"
     ]
    }
   ],
   "source": [
    "print('The tree_gini train accuracy is: ', calc_accuracy(tree_gini,X_train) )\n",
    "print('The tree_gini test accuracy is: ', calc_accuracy(tree_gini,X_test) )"
   ]
  },
  {
   "cell_type": "code",
   "execution_count": 22,
   "metadata": {},
   "outputs": [
    {
     "name": "stdout",
     "output_type": "stream",
     "text": [
      "The tree_entropy train accuracy is:  0.9960610536681438\n",
      "The tree_entropy test accuracy is:  0.810930576070901\n"
     ]
    }
   ],
   "source": [
    "print('The tree_entropy train accuracy is: ',calc_accuracy(tree_entropy,X_train) )\n",
    "print('The tree_entropy test accuracy is: ',calc_accuracy(tree_entropy,X_test) )"
   ]
  },
  {
   "cell_type": "code",
   "execution_count": 23,
   "metadata": {
    "scrolled": true
   },
   "outputs": [
    {
     "name": "stdout",
     "output_type": "stream",
     "text": [
      "The tree_entropy_gain_ratio train accuracy is:  0.9963892991957984\n",
      "The tree_entropy_gain_ratio test accuracy is:  0.811422944362383\n"
     ]
    }
   ],
   "source": [
    "print('The tree_entropy_gain_ratio train accuracy is: ',calc_accuracy(tree_entropy_gain_ratio,X_train) )\n",
    "print('The tree_entropy_gain_ratio test accuracy is: ',calc_accuracy(tree_entropy_gain_ratio,X_test) )"
   ]
  },
  {
   "cell_type": "markdown",
   "metadata": {},
   "source": [
    "#### The accuracy on tree_entropy_gain_ratio test data is the highest"
   ]
  },
  {
   "cell_type": "markdown",
   "metadata": {},
   "source": [
    "## Depth pruning\n",
    "\n",
    "(15 points)\n",
    "\n",
    "Consider the following max_depth values: [1, 2, 3, 4, 5, 6, 7, 8]. For each value, construct a tree and prune it according to the max_depth value = don't let the tree to grow beyond this depth. Next, calculate the training and testing accuracy.<br>\n",
    "On a single plot, draw the training and testing accuracy as a function of the max_depth. Mark the best result on the graph with red circle."
   ]
  },
  {
   "cell_type": "code",
   "execution_count": 24,
   "metadata": {},
   "outputs": [],
   "source": [
    "train_accuracy_list = []\n",
    "test_accuracy_list = []\n",
    "best_accuracy = 0\n",
    "best_depth = 0\n",
    "\n",
    "for depth in range(1, 9):\n",
    "    tree = build_tree(X_train, impurity=calc_entropy, gain_ratio=True, max_depth=depth)\n",
    "    train_accuracy = calc_accuracy(tree, X_train)\n",
    "    test_accuracy = calc_accuracy(tree, X_test)\n",
    "    train_accuracy_list.append(train_accuracy)\n",
    "    test_accuracy_list.append(test_accuracy)\n",
    "    \n",
    "    if test_accuracy > best_accuracy:\n",
    "        best_accuracy = test_accuracy\n",
    "        best_depth = depth\n"
   ]
  },
  {
   "cell_type": "code",
   "execution_count": 25,
   "metadata": {},
   "outputs": [
    {
     "data": {
      "image/png": "[encoded data removed]",
      "text/plain": [
       "<Figure size 1000x800 with 1 Axes>"
      ]
     },
     "metadata": {},
     "output_type": "display_data"
    }
   ],
   "source": [
    "#I was helped by Chat GPT\n",
    "import matplotlib.pyplot as plt\n",
    "\n",
    "max_depth_values = range(1, 9)\n",
    "\n",
    "plt.plot(max_depth_values, train_accuracy_list, label='Training Accuracy')\n",
    "plt.plot(max_depth_values, test_accuracy_list, label='Testing Accuracy')\n",
    "\n",
    "#best result\n",
    "best_depth_index = best_depth - 1\n",
    "best_train_accuracy = train_accuracy_list[best_depth_index]\n",
    "best_test_accuracy = test_accuracy_list[best_depth_index]\n",
    "plt.scatter(best_depth, best_accuracy, color='red', marker='o', label='Best Result')\n",
    "\n",
    "plt.xlabel('max_depth')\n",
    "plt.ylabel('Accuracy')\n",
    "plt.title('Training and Testing Accuracy vs. max_depth')\n",
    "plt.legend()\n",
    "plt.grid(True)\n",
    "plt.show()"
   ]
  },
  {
   "cell_type": "markdown",
   "metadata": {},
   "source": [
    "## Min Samples Split\n",
    "\n",
    "(15 points)\n",
    "\n",
    "Consider the following min_samples_split values: [1, 5, 10, 20, 50]. For each value, construct a tree and prune it according to the min_samples_split value = don't split a node if the number of sample in it is less or equal to the min_samples_split value. Next, calculate the training and testing accuracy.<br>\n",
    "On a single plot, draw the training and testing accuracy as a function of the min_samples_split. Mark the best result on the graph with red circle. (make sure that the x-axis ticks represent the values of min_samples_split)"
   ]
  },
  {
   "cell_type": "code",
   "execution_count": 26,
   "metadata": {},
   "outputs": [],
   "source": [
    "train_accuracy_list = []\n",
    "test_accuracy_list = []\n",
    "best_accuracy = 0\n",
    "best_min_samples = 0\n",
    "\n",
    "for min_samples in [1, 5, 10, 20, 50]:\n",
    "    tree = build_tree(X_train, impurity=calc_entropy, gain_ratio=True, min_samples_split=min_samples)\n",
    "    train_accuracy = calc_accuracy(tree, X_train)\n",
    "    test_accuracy = calc_accuracy(tree, X_test)\n",
    "    train_accuracy_list.append(train_accuracy)\n",
    "    test_accuracy_list.append(test_accuracy)\n",
    "    \n",
    "    if test_accuracy > best_accuracy:\n",
    "        best_accuracy = test_accuracy\n",
    "        best_min_samples = min_samples\n"
   ]
  },
  {
   "cell_type": "code",
   "execution_count": 27,
   "metadata": {},
   "outputs": [
    {
     "data": {
      "image/png": "[encoded data removed]",
      "text/plain": [
       "<Figure size 1000x800 with 1 Axes>"
      ]
     },
     "metadata": {},
     "output_type": "display_data"
    }
   ],
   "source": [
    "#I was helped with Chat GPT\n",
    "\n",
    "min_samples_values = [1, 5, 10, 20, 50]\n",
    "\n",
    "plt.plot(min_samples_values, train_accuracy_list, label='Training Accuracy')\n",
    "plt.plot(min_samples_values, test_accuracy_list, label='Testing Accuracy')\n",
    "\n",
    "#best result\n",
    "best_min_samples_index = min_samples_values.index(best_min_samples)\n",
    "best_train_accuracy = train_accuracy_list[best_min_samples_index]\n",
    "best_test_accuracy = test_accuracy_list[best_min_samples_index]\n",
    "plt.scatter(best_min_samples, best_accuracy, color='red', marker='o', label='Best Result')\n",
    "\n",
    "plt.xlabel('min_samples_split')\n",
    "plt.ylabel('Accuracy')\n",
    "plt.title('Training and Testing Accuracy vs. min_samples_split')\n",
    "plt.xticks(min_samples_values)\n",
    "plt.legend()\n",
    "plt.grid(True)\n",
    "plt.show()\n"
   ]
  },
  {
   "cell_type": "markdown",
   "metadata": {},
   "source": [
    "Build the best 2 trees:\n",
    "1. tree_max_depth - the best tree according to max_depth pruning\n",
    "1. tree_min_samples_split - the best tree according to min_samples_split pruning"
   ]
  },
  {
   "cell_type": "code",
   "execution_count": 28,
   "metadata": {},
   "outputs": [],
   "source": [
    "#Entropy + gain_ratio=True + max_depth= 5\n",
    "tree_max_depth = build_tree(X_train, impurity = calc_entropy, gain_ratio=True, max_depth= 5) \n",
    "\n",
    "#Entropy + gain_ratio=True + min_samples_split= 20\n",
    "tree_min_samples_split = build_tree(X_train, impurity = calc_entropy, gain_ratio=True, min_samples_split= 20)"
   ]
  },
  {
   "cell_type": "markdown",
   "metadata": {},
   "source": [
    "## Number of Nodes\n",
    "\n",
    "(5 points)\n",
    "\n",
    "Complete the function counts_nodes and print the number of nodes in each tree and print the number of nodes of the two trees above"
   ]
  },
  {
   "cell_type": "code",
   "execution_count": 29,
   "metadata": {},
   "outputs": [],
   "source": [
    "def count_nodes(node):\n",
    "    \"\"\"\n",
    "    Count the number of node in a given tree\n",
    " \n",
    "    Input:\n",
    "    - node: a node in the decision tree.\n",
    " \n",
    "    Output: the number of node in the tree.\n",
    "    \"\"\"\n",
    "    if node.get_is_leaf():\n",
    "        return 1\n",
    "    \n",
    "    count = 1\n",
    "    for child in node.get_children():\n",
    "        count += count_nodes(child)\n",
    "    \n",
    "    return count\n"
   ]
  },
  {
   "cell_type": "code",
   "execution_count": 30,
   "metadata": {},
   "outputs": [
    {
     "name": "stdout",
     "output_type": "stream",
     "text": [
      "Number of nodes in tree_gini: 22136\n",
      "Number of nodes in tree_entropy: 15649\n",
      "Number of nodes in tree_entropy_gain_ratio: 14636\n",
      "Number of nodes in tree_with_max_depth: 721\n",
      "Number of nodes in tree_with_min_samples_split: 886\n"
     ]
    }
   ],
   "source": [
    "print(\"Number of nodes in tree_gini:\", count_nodes(tree_gini))\n",
    "print(\"Number of nodes in tree_entropy:\", count_nodes(tree_entropy))\n",
    "print(\"Number of nodes in tree_entropy_gain_ratio:\", count_nodes(tree_entropy_gain_ratio)) \n",
    "print(\"Number of nodes in tree_with_max_depth:\", count_nodes(tree_max_depth))\n",
    "print(\"Number of nodes in tree_with_min_samples_split:\", count_nodes(tree_min_samples_split))"
   ]
  },
  {
   "cell_type": "markdown",
   "metadata": {},
   "source": [
    "## Print the tree\n",
    "\n",
    "Complete the function `print_tree`. Your tree should be visualized clearly. You can use the following example as a reference:\n",
    "```\n",
    "[ROOT, feature=X0],\n",
    "  [X0=a, feature=X2]\n",
    "    [X2=c, leaf]: [{1.0: 10}]\n",
    "    [X2=d, leaf]: [{0.0: 10}]\n",
    "  [X0=y, feature=X5], \n",
    "    [X5=a, leaf]: [{1.0: 5}]\n",
    "    [X5=s, leaf]: [{0.0: 10}]\n",
    "  [X0=e, leaf]: [{0.0: 25, 1.0: 50}]\n",
    "```\n",
    "In each brackets:\n",
    "* The first argument is the parent feature with the value that led to current node\n",
    "* The second argument is the selected feature of the current node\n",
    "* If the current node is a leaf, you need to print also the labels and their counts\n",
    "\n",
    "(5 points)"
   ]
  },
  {
   "cell_type": "code",
   "execution_count": 31,
   "metadata": {},
   "outputs": [],
   "source": [
    "# you can change the function signeture\n",
    "def print_tree(node, depth=0, parent_feature='ROOT', feature_val='ROOT'):\n",
    "    '''\n",
    "    prints the tree according to the example above\n",
    "\n",
    "    Input:\n",
    "    - node: a node in the decision tree\n",
    "\n",
    "    This function has no return value\n",
    "    '''\n",
    "    \n",
    "    if parent_feature=='ROOT':\n",
    "        print( f'[{parent_feature}, feature=X{node.get_feature()}]')\n",
    "\n",
    "\n",
    "    for child in node.get_children():\n",
    "        if child.get_feature() != None: # checking if the node is leaf\n",
    "            print('   ' * (child.get_depth()) + f'[X{node.get_feature()}={child.get_value()}, feature=X{child.get_feature()}]')\n",
    "            print_tree(child, parent_feature = node.get_feature() )\n",
    "        else:\n",
    "            data = child.get_data()\n",
    "            decision_e = sum(data[:, -1]=='e')\n",
    "            decision_p = sum(data[:, -1]=='p')\n",
    "            if decision_e == 0:\n",
    "                print('   ' * (child.get_depth()) + f'[X{node.get_feature()}={child.get_value()}, Leaf]: [p: {decision_p}]')\n",
    "            elif decision_p == 0:\n",
    "                print('   ' * (child.get_depth()) + f'[X{node.get_feature()}={child.get_value()}, Leaf]: [e: {decision_e}]')\n",
    "            else:\n",
    "                print('   ' * (child.get_depth()) + f'[X{node.get_feature()}={child.get_value()}, Leaf]: [e: {decision_e}, p: {decision_p}]')\n",
    "\n",
    "        "
   ]
  },
  {
   "cell_type": "markdown",
   "metadata": {},
   "source": [
    "print the tree with the best test accuracy and with less than 50 nodes (from the two pruning methods)"
   ]
  },
  {
   "cell_type": "code",
   "execution_count": 32,
   "metadata": {
    "scrolled": false
   },
   "outputs": [
    {
     "name": "stdout",
     "output_type": "stream",
     "text": [
      "Tree 1:\n",
      "Accuracy: 0.6154603643525357\n",
      "Number of nodes: 33\n",
      "\n",
      "Tree 2:\n",
      "Accuracy: 0.8862629246676514\n",
      "Number of nodes: 34\n",
      "\n",
      "Tree 3:\n",
      "Accuracy: 0.7523387493845396\n",
      "Number of nodes: 122\n",
      "\n",
      "Tree 4:\n",
      "Accuracy: 0.8951255539143279\n",
      "Number of nodes: 94\n",
      "\n",
      "Tree 5:\n",
      "Accuracy: 0.8360413589364845\n",
      "Number of nodes: 286\n",
      "\n",
      "Tree 6:\n",
      "Accuracy: 0.8951255539143279\n",
      "Number of nodes: 221\n",
      "\n",
      "Tree 7:\n",
      "Accuracy: 0.8724766125061546\n",
      "Number of nodes: 537\n",
      "\n",
      "Tree 8:\n",
      "Accuracy: 0.8951255539143279\n",
      "Number of nodes: 345\n",
      "\n"
     ]
    }
   ],
   "source": [
    "best_tree_less_than_50_nodes_2_ent = build_tree(X_train, impurity = calc_entropy, gain_ratio = True, max_depth= 2, min_samples_split=20)\n",
    "best_tree_less_than_50_nodes_2_gin = build_tree(X_train, impurity = calc_gini, gain_ratio = True, max_depth= 2, min_samples_split=20)\n",
    "\n",
    "best_tree_less_than_50_nodes_3_ent = build_tree(X_train, impurity = calc_entropy, gain_ratio = True, max_depth= 3, min_samples_split=20)\n",
    "best_tree_less_than_50_nodes_3_gin = build_tree(X_train, impurity = calc_gini, gain_ratio = True, max_depth= 3, min_samples_split=20)\n",
    "\n",
    "best_tree_less_than_50_nodes_4_ent = build_tree(X_train, impurity = calc_entropy, gain_ratio = True, max_depth= 4, min_samples_split=20)\n",
    "best_tree_less_than_50_nodes_4_gin = build_tree(X_train, impurity = calc_gini, gain_ratio = True, max_depth= 4, min_samples_split=20)\n",
    "\n",
    "best_tree_less_than_50_nodes_5_ent = build_tree(X_train, impurity = calc_entropy, gain_ratio = True, max_depth= 5, min_samples_split=20)\n",
    "best_tree_less_than_50_nodes_5_gin = build_tree(X_train, impurity = calc_gini, gain_ratio = True, max_depth= 5, min_samples_split=20)\n",
    "\n",
    "trees = [\n",
    "    best_tree_less_than_50_nodes_2_ent,\n",
    "    best_tree_less_than_50_nodes_2_gin,\n",
    "    best_tree_less_than_50_nodes_3_ent,\n",
    "    best_tree_less_than_50_nodes_3_gin,\n",
    "    best_tree_less_than_50_nodes_4_ent,\n",
    "    best_tree_less_than_50_nodes_4_gin,\n",
    "    best_tree_less_than_50_nodes_5_ent,\n",
    "    best_tree_less_than_50_nodes_5_gin\n",
    "]\n",
    "\n",
    "best_accuracy = 0\n",
    "best_tree = None\n",
    "\n",
    "for i, tree in enumerate(trees):\n",
    "    accuracy = calc_accuracy(tree, X_test)\n",
    "    num_nodes = count_nodes(tree)\n",
    "\n",
    "    print(f\"Tree {i+1}:\")\n",
    "    print(\"Accuracy:\", accuracy)\n",
    "    print(\"Number of nodes:\", num_nodes)\n",
    "    print()\n"
   ]
  },
  {
   "cell_type": "markdown",
   "metadata": {},
   "source": [
    "##### The tree with the best test accuarcy and less than 50 nodes is tree with gini impurity, max deapth 2 and minimum sample split of 20"
   ]
  },
  {
   "cell_type": "code",
   "execution_count": 33,
   "metadata": {},
   "outputs": [
    {
     "name": "stdout",
     "output_type": "stream",
     "text": [
      "[ROOT, feature=X4]\n",
      "   [X4=a, feature=X2]\n",
      "      [X2=n, Leaf]: [e: 33, p: 5]\n",
      "      [X2=w, Leaf]: [e: 107, p: 7]\n",
      "      [X2=y, Leaf]: [e: 133, p: 19]\n",
      "   [X4=c, feature=X6]\n",
      "      [X6=c, Leaf]: [e: 7, p: 63]\n",
      "      [X6=w, Leaf]: [e: 3, p: 74]\n",
      "   [X4=f, feature=X10]\n",
      "      [X10=f, Leaf]: [e: 14, p: 91]\n",
      "      [X10=k, Leaf]: [e: 134, p: 1037]\n",
      "      [X10=s, Leaf]: [e: 22, p: 310]\n",
      "   [X4=l, feature=X1]\n",
      "      [X1=f, Leaf]: [e: 19, p: 1]\n",
      "      [X1=s, Leaf]: [e: 94, p: 16]\n",
      "      [X1=y, Leaf]: [e: 159, p: 10]\n",
      "   [X4=m, feature=X0]\n",
      "      [X0=f, Leaf]: [e: 1, p: 8]\n",
      "      [X0=k, Leaf]: [e: 1, p: 10]\n",
      "      [X0=x, Leaf]: [p: 7]\n",
      "   [X4=n, feature=X11]\n",
      "      [X11=f, Leaf]: [e: 313, p: 41]\n",
      "      [X11=k, Leaf]: [e: 108, p: 9]\n",
      "      [X11=s, Leaf]: [e: 1899, p: 260]\n",
      "      [X11=y, Leaf]: [e: 12, p: 34]\n",
      "   [X4=p, feature=X0]\n",
      "      [X0=f, Leaf]: [e: 7, p: 86]\n",
      "      [X0=x, Leaf]: [e: 1, p: 89]\n",
      "   [X4=s, feature=X13]\n",
      "      [X13=p, Leaf]: [e: 12, p: 190]\n",
      "      [X13=w, Leaf]: [e: 26, p: 190]\n",
      "   [X4=y, feature=X1]\n",
      "      [X1=s, Leaf]: [e: 18, p: 194]\n",
      "      [X1=y, Leaf]: [e: 31, p: 188]\n",
      "\n",
      " The Tree Accuracy is: 0.8862629246676514\n"
     ]
    }
   ],
   "source": [
    "print_tree(best_tree_less_than_50_nodes_2_gin)\n",
    "print(\"\\n The Tree Accuracy is:\", calc_accuracy(best_tree_less_than_50_nodes_2_gin, X_test))"
   ]
  }
 ],
 "metadata": {
  "celltoolbar": "Create Assignment",
  "kernelspec": {
   "display_name": "Python 3 (ipykernel)",
   "language": "python",
   "name": "python3"
  },
  "language_info": {
   "codemirror_mode": {
    "name": "ipython",
    "version": 3
   },
   "file_extension": ".py",
   "mimetype": "text/x-python",
   "name": "python",
   "nbconvert_exporter": "python",
   "pygments_lexer": "ipython3",
   "version": "3.9.13"
  }
 },
 "nbformat": 4,
 "nbformat_minor": 4
}
